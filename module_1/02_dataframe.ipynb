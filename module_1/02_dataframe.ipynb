{
 "cells": [
  {
   "cell_type": "markdown",
   "metadata": {},
   "source": [
    "# DataFrame"
   ]
  },
  {
   "cell_type": "code",
   "execution_count": null,
   "metadata": {
    "collapsed": true
   },
   "outputs": [],
   "source": [
    "#import the packages \"Pandas\" and \"MatPlotLib\" into Jupyter Notebook\n",
    "import pandas as pd\n",
    "import matplotlib.pyplot as plt\n",
    "%matplotlib inline"
   ]
  },
  {
   "cell_type": "code",
   "execution_count": null,
   "metadata": {
    "collapsed": true
   },
   "outputs": [],
   "source": [
    "#import Facebook's stock data\n",
    "fb = pd.DataFrame.from_csv('../data/facebook.csv')"
   ]
  },
  {
   "cell_type": "code",
   "execution_count": null,
   "metadata": {},
   "outputs": [],
   "source": [
    "print(fb.head())"
   ]
  },
  {
   "cell_type": "code",
   "execution_count": null,
   "metadata": {
    "collapsed": true
   },
   "outputs": [],
   "source": [
    "#It is your turn to import Microsoft's stock data - \"microsoft.csv\", which is located in the same folder of facebook.csv\n",
    "#Replace \"None\" with your code\n",
    "ms = pd.DataFrame.from_csv('../data/microsoft.csv')"
   ]
  },
  {
   "cell_type": "code",
   "execution_count": null,
   "metadata": {},
   "outputs": [],
   "source": [
    "# print head of ms, 1 line\n",
    "print(ms.head(1))"
   ]
  },
  {
   "cell_type": "markdown",
   "metadata": {},
   "source": [
    "** Expected Output: **"
   ]
  },
  {
   "cell_type": "markdown",
   "metadata": {},
   "source": [
    "<tr>\n",
    "    <th>Date</th>\n",
    "    <th>Open</th>  \n",
    "    <th>High</th>\n",
    "    <th>Low</th>\n",
    "    <th>Close</th>\n",
    "    <th>Adj Close</th>\n",
    "    <th>Volume</th>\n",
    "</tr>\n",
    "<tr>\n",
    "    <td>2014-12-31</td>\n",
    "    <td>46.730000</td>  \n",
    "    <td>47.439999</td>\n",
    "    <td>46.450001</td>\n",
    "    <td>46.450001</td>\n",
    "    <td>42.848763</td>\n",
    "    <td>21552500</td>\n",
    "</tr>\n",
    "<tr>\n",
    "    <td>2015-01-02</td>\n",
    "    <td>46.660000</td>  \n",
    "    <td>47.419998</td>\n",
    "    <td>46.540001</td>\n",
    "    <td>46.759998</td>\n",
    "    <td>43.134731</td>\n",
    "    <td>27913900</td>\n",
    "</tr>\n",
    "<tr>\n",
    "    <td>2015-01-05</td>\n",
    "    <td>46.369999</td>  \n",
    "    <td>46.730000</td>\n",
    "    <td>46.250000</td>\n",
    "    <td>46.330002</td>\n",
    "    <td>42.738068</td>\n",
    "    <td>39673900</td>\n",
    "</tr>\n",
    "<tr>\n",
    "    <td>2015-01-06</td>\n",
    "    <td>46.380001</td>  \n",
    "    <td>46.750000</td>\n",
    "    <td>45.540001</td>\n",
    "    <td>45.650002</td>\n",
    "    <td>42.110783</td>\n",
    "    <td>36447900</td>\n",
    "</tr>\n",
    "<tr>\n",
    "    <td>2015-01-07</td>\n",
    "    <td>45.980000</td>  \n",
    "    <td>46.459999</td>\n",
    "    <td>45.490002</td>\n",
    "    <td>46.230000</td>\n",
    "    <td>42.645817</td>\n",
    "    <td>29114100</td>\n",
    "</tr>\n"
   ]
  },
  {
   "cell_type": "markdown",
   "metadata": {},
   "source": [
    "## Show the size of a DataFrame using \"Shape\""
   ]
  },
  {
   "cell_type": "code",
   "execution_count": null,
   "metadata": {},
   "outputs": [],
   "source": [
    "print(fb.shape)"
   ]
  },
  {
   "cell_type": "code",
   "execution_count": null,
   "metadata": {},
   "outputs": [],
   "source": [
    "# print the shape of ms, 1 line\n",
    "print(ms.shape)"
   ]
  },
  {
   "cell_type": "markdown",
   "metadata": {},
   "source": [
    "## Show summary statistics of a DataFrame"
   ]
  },
  {
   "cell_type": "code",
   "execution_count": null,
   "metadata": {},
   "outputs": [],
   "source": [
    "# print summary statistics of Facebook\n",
    "print(fb.describe())"
   ]
  },
  {
   "cell_type": "code",
   "execution_count": null,
   "metadata": {},
   "outputs": [],
   "source": [
    "# print summary statistics of Microsoft\n",
    "print(ms.describe())"
   ]
  },
  {
   "cell_type": "markdown",
   "metadata": {},
   "source": [
    "## Locate a particular row of data using \"Selection by label\""
   ]
  },
  {
   "cell_type": "code",
   "execution_count": null,
   "metadata": {
    "collapsed": true
   },
   "outputs": [],
   "source": [
    "# select all the price information of Facebook in 2016.\n",
    "fb_2015 = fb.loc['2015-01-01':'2015-12-31']"
   ]
  },
  {
   "cell_type": "code",
   "execution_count": null,
   "metadata": {},
   "outputs": [],
   "source": [
    "# print the price of Facebook on '2015-03-16'\n",
    "print(fb_2015.loc['2015-03-16'])"
   ]
  },
  {
   "cell_type": "code",
   "execution_count": null,
   "metadata": {
    "collapsed": true
   },
   "outputs": [],
   "source": [
    "# select all the price information of Microsoft in 2016.\n",
    "ms_2016 = ms.loc['2016-01-01':'2016-12-31']"
   ]
  },
  {
   "cell_type": "code",
   "execution_count": null,
   "metadata": {},
   "outputs": [],
   "source": [
    "# print the price of Microsoft on '2016-03-16'\n",
    "print(ms_2016.loc['2016-03-16'])"
   ]
  },
  {
   "cell_type": "markdown",
   "metadata": {},
   "source": [
    "** Expected Output: **"
   ]
  },
  {
   "cell_type": "markdown",
   "metadata": {},
   "source": [
    "<tr>\n",
    "    <td>Open</td>\n",
    "    <td>5.345000e+01</td>\n",
    "</tr>\n",
    "<tr>\n",
    "    <td>High</td>\n",
    "    <td>5.460000e+01</td>\n",
    "</tr>\n",
    "<tr>\n",
    "    <td>Low</td>\n",
    "    <td>5.340000e+01</td>\n",
    "</tr>\n",
    "<tr>\n",
    "    <td>Close</td>\n",
    "    <td>5.435000e+01</td>\n",
    "</tr>\n",
    "<tr>\n",
    "    <td>Adj Close</td>\n",
    "    <td>5.187095e+01</td>\n",
    "</tr>\n",
    "<tr>\n",
    "    <td>Volume</td>\n",
    "    <td>3.169170e+07</td>\n",
    "</tr>"
   ]
  },
  {
   "cell_type": "markdown",
   "metadata": {},
   "source": [
    "## Locate a particular row of data using \"Selection by position\""
   ]
  },
  {
   "cell_type": "code",
   "execution_count": null,
   "metadata": {},
   "outputs": [],
   "source": [
    "# print the opening price of the first row\n",
    "print(fb.iloc[0, 0])"
   ]
  },
  {
   "cell_type": "code",
   "execution_count": null,
   "metadata": {},
   "outputs": [],
   "source": [
    "# print the opening price of the last row\n",
    "print(ms.iloc[-1, 0])"
   ]
  },
  {
   "cell_type": "markdown",
   "metadata": {},
   "source": [
    "** Expected Output: ** 90.559998"
   ]
  },
  {
   "cell_type": "markdown",
   "metadata": {},
   "source": [
    "## Plot the stock data using plot() method"
   ]
  },
  {
   "cell_type": "code",
   "execution_count": null,
   "metadata": {},
   "outputs": [],
   "source": [
    "plt.figure(figsize=(10, 8))\n",
    "fb['Close'].plot()\n",
    "plt.show()"
   ]
  },
  {
   "cell_type": "code",
   "execution_count": null,
   "metadata": {},
   "outputs": [],
   "source": [
    "plt.figure(figsize=(10, 8))\n",
    "# plot only the Close price of 2016 of Microsoft, 1 line \n",
    "ms_2016['Close'].plot()\n",
    "plt.show()"
   ]
  },
  {
   "cell_type": "markdown",
   "metadata": {},
   "source": [
    "** Expected Ouput: **"
   ]
  },
  {
   "cell_type": "markdown",
   "metadata": {},
   "source": [
    "<img src=\"MS2016.png\">"
   ]
  }
 ],
 "metadata": {
  "kernelspec": {
   "display_name": "Python 3",
   "language": "python",
   "name": "python3"
  },
  "language_info": {
   "codemirror_mode": {
    "name": "ipython",
    "version": 3
   },
   "file_extension": ".py",
   "mimetype": "text/x-python",
   "name": "python",
   "nbconvert_exporter": "python",
   "pygments_lexer": "ipython3",
   "version": "3.6.2"
  }
 },
 "nbformat": 4,
 "nbformat_minor": 2
}
